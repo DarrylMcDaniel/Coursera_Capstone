{
    "nbformat_minor": 1, 
    "cells": [
        {
            "source": "# <center>  Applied Data Science Capstone </center>\n## <center> Finding Out What's Good in the Neighborhood, and Will I Like It</center>", 
            "cell_type": "markdown", 
            "metadata": {
                "collapsed": true
            }
        }, 
        {
            "source": "### Introduction", 
            "cell_type": "markdown", 
            "metadata": {}
        }, 
        {
            "source": "Some cities are known for a type of food that brings the masses in its direction. I have done my fair share of moving around the country and living in various cities. I know that one of the first things I try to do is find the touristy food establishments so that it is quickly out of my system but also to determine what locations are going to be \u201cgoto\u201d spots when a certain craving hits. \n\nWhat I would like to create is something that could be used on day one of being in a city. First off being able to just see what is the most popular eateries in the area. After that being able to see if any of those locations align with my personal favorites. I see that being able to look this information up as soon as one is in a city creates the opportunity for that person to quickly acclimate to what may be their new \u201chome\u201d\n\nThis attempt will benefit any adventurous newcomers to a city that wish to eliminate the trial and error of eating at multiple places to see if its a fit for them. Being able to see what everyone else is interested in a given area and then seeing if it matches their personal favorites would be a game changer in migration to cities and even possibly used on larger area scales. \n", 
            "cell_type": "markdown", 
            "metadata": {}
        }, 
        {
            "source": "### Data", 
            "cell_type": "markdown", 
            "metadata": {}
        }, 
        {
            "source": "For the purpose of this report I will be using geospacial data on the city of Austin, Texas. Most definitely a city that has seen a great amount of migration due to the city's welcoming arms to companies like Google, Apple, and Amazon. I will be pulling neighborhood information with zip codes to explore each area's local eateries. I will establish a dataframe that contains coordinates so that I have full use of the multiple geospatial analysis libraries that python has to offer. \n\nA use will be able to see all neighborhoods that compose Austin along with their zip codes and geospatial latitudinal and longitudinal coordinates. I will be able to compile the top 10 most visited food related venues for a neighborhood and provide a map of where they are immediately ", 
            "cell_type": "markdown", 
            "metadata": {}
        }, 
        {
            "source": "", 
            "cell_type": "code", 
            "metadata": {}, 
            "outputs": [], 
            "execution_count": null
        }
    ], 
    "metadata": {
        "kernelspec": {
            "display_name": "Python 3.5", 
            "name": "python3", 
            "language": "python"
        }, 
        "language_info": {
            "mimetype": "text/x-python", 
            "nbconvert_exporter": "python", 
            "version": "3.5.5", 
            "name": "python", 
            "file_extension": ".py", 
            "pygments_lexer": "ipython3", 
            "codemirror_mode": {
                "version": 3, 
                "name": "ipython"
            }
        }
    }, 
    "nbformat": 4
}